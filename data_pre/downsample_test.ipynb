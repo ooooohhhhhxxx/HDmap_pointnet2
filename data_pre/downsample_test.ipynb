{
 "cells": [
  {
   "cell_type": "code",
   "execution_count": 2,
   "metadata": {},
   "outputs": [
    {
     "name": "stdout",
     "output_type": "stream",
     "text": [
      "Jupyter environment detected. Enabling Open3D WebVisualizer.\n",
      "[Open3D INFO] WebRTC GUI backend enabled.\n",
      "[Open3D INFO] WebRTCWindowSystem: HTTP handshake server disabled.\n"
     ]
    }
   ],
   "source": [
    "import open3d as o3d\n",
    "import numpy as np\n",
    "import pandas as pd\n",
    "import os"
   ]
  },
  {
   "cell_type": "code",
   "execution_count": 4,
   "metadata": {},
   "outputs": [],
   "source": [
    "def creat_pcd(file, position, pcd_output_path):\n",
    "    # file is the txt file name\n",
    "    # position is path+file name\n",
    "    \n",
    "    #Lodaing txt\n",
    "    Full_Data = np.loadtxt(position)\n",
    "\n",
    "    #Creating pcd\n",
    "    if os.path.exists(pcd_output_path):\n",
    "        os.remove(pcd_output_path)\n",
    "    Output_Data = open(pcd_output_path, 'a')\n",
    "    Output_Data.write(\n",
    "        '# .PCD v0.7 - Point Cloud Data file format\\nVERSION 0.7\\nFIELDS x y z rgba\\nSIZE 4 4 4 4\\nTYPE F F F U\\nCOUNT 1 1 1 1'\n",
    "    )\n",
    "    string = '\\nWIDTH ' + str(Full_Data.shape[0])\n",
    "    Output_Data.write(string)\n",
    "    Output_Data.write('\\nHEIGHT 1\\nVIEWPOINT 0 0 0 1 0 0 0')\n",
    "    string = '\\nPOINTS ' + str(Full_Data.shape[0])\n",
    "    Output_Data.write(string)\n",
    "    Output_Data.write('\\nDATA ascii')\n",
    "    for j in range(Full_Data.shape[0]):\n",
    "        R = Full_Data[j, 3]\n",
    "        G = Full_Data[j, 4]\n",
    "        B = Full_Data[j, 5]\n",
    "        value = (int(R) << 16 | int(G) << 8 | int(B))\n",
    "        string = ('\\n' + str(Full_Data[j, 0]) + ' ' + str(Full_Data[j, 1]) +\n",
    "                  ' ' + str(Full_Data[j, 2]) + ' ' + str(value))\n",
    "        Output_Data.write(string)\n",
    "    Output_Data.close()\n",
    "\n",
    "    print('%s---Transfer to PCD Completed' % file)\n"
   ]
  },
  {
   "cell_type": "code",
   "execution_count": 11,
   "metadata": {},
   "outputs": [],
   "source": [
    "def downsample(pcd_position, output_path, downsize):\n",
    "    pcd = o3d.io.read_point_cloud(pcd_position)\n",
    "    downpcd = pcd.voxel_down_sample(voxel_size=downsize)\n",
    "    o3d.io.write_point_cloud(output_path, downpcd)\n",
    "    print('downsample completed')"
   ]
  },
  {
   "cell_type": "code",
   "execution_count": 12,
   "metadata": {},
   "outputs": [
    {
     "name": "stdout",
     "output_type": "stream",
     "text": [
      "downsample completed\n",
      "downsample completed\n",
      "downsample completed\n"
     ]
    }
   ],
   "source": [
    "input_path = r'D:\\pointnet\\data\\downsample\\txt/'\n",
    "pcd_path = r'D:\\pointnet\\data\\downsample\\pcd/'\n",
    "downpcd_path = r'D:\\pointnet\\data\\downsample\\final/'\n",
    "\n",
    "files = os.listdir(input_path)\n",
    "txts = []\n",
    "for file in files:  #遍历⽂件夹\n",
    "    elements = file.split('.')\n",
    "    filename = elements[0]\n",
    "    \n",
    "    txt_position = input_path + filename + '.txt'\n",
    "    pcd_position = pcd_path + filename + '.pcd'\n",
    "    downpcd_position = downpcd_path + filename + '.pcd'\n",
    "    \n",
    "    creat_pcd(filename, txt_position, pcd_position)\n",
    "    downsample(pcd_position, downpcd_position, 0.05)"
   ]
  }
 ],
 "metadata": {
  "kernelspec": {
   "display_name": "Python 3.9.13 ('pnpp')",
   "language": "python",
   "name": "python3"
  },
  "language_info": {
   "codemirror_mode": {
    "name": "ipython",
    "version": 3
   },
   "file_extension": ".py",
   "mimetype": "text/x-python",
   "name": "python",
   "nbconvert_exporter": "python",
   "pygments_lexer": "ipython3",
   "version": "3.9.13"
  },
  "orig_nbformat": 4,
  "vscode": {
   "interpreter": {
    "hash": "88cc53b3b05ea6e4b8b21401be5decded28d3dd95695c8d66c284a3644155812"
   }
  }
 },
 "nbformat": 4,
 "nbformat_minor": 2
}
