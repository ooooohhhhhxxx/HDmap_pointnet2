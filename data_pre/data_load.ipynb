{
 "cells": [
  {
   "cell_type": "code",
   "execution_count": 4,
   "metadata": {},
   "outputs": [],
   "source": [
    "import pandas as pd\n",
    "import numpy as np"
   ]
  },
  {
   "cell_type": "code",
   "execution_count": 5,
   "metadata": {},
   "outputs": [],
   "source": [
    "# df = pd.read_csv(r'D:\\pointnet\\data\\s3dis\\Stanford3dDataset_v1.2_Aligned_Version\\Area_1\\part_1\\Annotations\\roadedge_11.txt',header = None,sep=' ',dtype=float)"
   ]
  },
  {
   "cell_type": "code",
   "execution_count": 36,
   "metadata": {},
   "outputs": [
    {
     "name": "stdout",
     "output_type": "stream",
     "text": [
      "[  6284  73667   3198  43052   6064  15957  10915    774   9387  39838\n",
      " 137406  18359  20712 165157  79324  28906]\n"
     ]
    }
   ],
   "source": [
    "room_data = np.load('/Users/jinxuanchen/Files_Local/pointnet/data/Area_1_part_1.npy')\n",
    "# room_data = np.load(room_path)  # xyzrgbl, N*7\n",
    "points, labels = room_data[:, 0:6], room_data[:, 6]\n",
    "tmp, _ = np.histogram(labels, range(17))\n",
    "print(tmp)"
   ]
  },
  {
   "cell_type": "code",
   "execution_count": 19,
   "metadata": {},
   "outputs": [
    {
     "data": {
      "text/plain": [
       "{'barrier': 0,\n",
       " 'building': 1,\n",
       " 'car': 2,\n",
       " 'cone': 3,\n",
       " 'handrail': 4,\n",
       " 'human': 5,\n",
       " 'lawn': 6,\n",
       " 'light': 7,\n",
       " 'manhole': 8,\n",
       " 'midline': 9,\n",
       " 'motor': 10,\n",
       " 'ridge': 11,\n",
       " 'road': 12,\n",
       " 'roadedge': 13,\n",
       " 'sign': 14,\n",
       " 'slope': 15,\n",
       " 'tree': 16,\n",
       " 'walkway': 17,\n",
       " 'wall': 18}"
      ]
     },
     "execution_count": 19,
     "metadata": {},
     "output_type": "execute_result"
    }
   ],
   "source": [
    "import os\n",
    "\n",
    "g_classes = [x.rstrip() for x in open('/Users/jinxuanchen/Files_Local/HDmap_pointnet2/data_utils/meta/class_names.txt')]\n",
    "g_class2label = {cls: i for i,cls in enumerate(g_classes)}\n",
    "g_class2label"
   ]
  }
 ],
 "metadata": {
  "kernelspec": {
   "display_name": "Python 3.9.13 ('pnpp')",
   "language": "python",
   "name": "python3"
  },
  "language_info": {
   "codemirror_mode": {
    "name": "ipython",
    "version": 3
   },
   "file_extension": ".py",
   "mimetype": "text/x-python",
   "name": "python",
   "nbconvert_exporter": "python",
   "pygments_lexer": "ipython3",
   "version": "3.9.13"
  },
  "orig_nbformat": 4,
  "vscode": {
   "interpreter": {
    "hash": "88cc53b3b05ea6e4b8b21401be5decded28d3dd95695c8d66c284a3644155812"
   }
  }
 },
 "nbformat": 4,
 "nbformat_minor": 2
}
