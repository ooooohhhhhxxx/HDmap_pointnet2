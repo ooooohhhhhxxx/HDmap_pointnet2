{
 "cells": [
  {
   "cell_type": "code",
   "execution_count": 22,
   "metadata": {},
   "outputs": [],
   "source": [
    "import os\n",
    "import pandas as pd"
   ]
  },
  {
   "cell_type": "code",
   "execution_count": 27,
   "metadata": {},
   "outputs": [
    {
     "data": {
      "text/plain": [
       "['/Users/jinxuanchen/Files_Local/pointnet/Pointnet_Pointnet2_pytorch/data/s3dis/Stanford3dDataset_v1.2_Aligned_Version/Area_1/room_1.DS_Store',\n",
       " '/Users/jinxuanchen/Files_Local/pointnet/Pointnet_Pointnet2_pytorch/data/s3dis/Stanford3dDataset_v1.2_Aligned_Version/Area_1/room_1Annotations',\n",
       " '/Users/jinxuanchen/Files_Local/pointnet/Pointnet_Pointnet2_pytorch/data/s3dis/Stanford3dDataset_v1.2_Aligned_Version/Area_1/room_1room_1.txt']"
      ]
     },
     "execution_count": 27,
     "metadata": {},
     "output_type": "execute_result"
    }
   ],
   "source": [
    "path = '/Users/jinxuanchen/Files_Local/pointnet/Pointnet_Pointnet2_pytorch/data/s3dis/Stanford3dDataset_v1.2_Aligned_Version/Area_1/room_1'\n",
    "files = os.listdir(path)\n",
    "txts = []\n",
    "for file in files:  #遍历⽂件夹\n",
    "    position = path+file  #构造绝对路径，\"\\\\\"，其中⼀个'\\'为转义符\n",
    "    txts.append(position)\n",
    "txts"
   ]
  },
  {
   "cell_type": "code",
   "execution_count": 12,
   "metadata": {},
   "outputs": [],
   "source": [
    "for i in range(len(txts)):\n",
    "    with open('/Users/jinxuanchen/Files_Local/pointnet/Pointnet_Pointnet2_pytorch/data/train/filelist.txt','w') as f:\n",
    "        f.write(txts[i])"
   ]
  },
  {
   "cell_type": "code",
   "execution_count": 50,
   "metadata": {},
   "outputs": [
    {
     "name": "stdout",
     "output_type": "stream",
     "text": [
      "tree_2.txt\n",
      "tree_3.txt\n",
      "tree_1.txt\n",
      "light_2.txt\n",
      "tree_4.txt\n",
      "tree_5.txt\n",
      "light_1.txt\n",
      "footway_8.txt\n",
      "footway_9.txt\n",
      "sign_1.txt\n",
      "hangrail_10.txt\n",
      "road_6.txt\n",
      "road_7.txt\n",
      "hangrail_11.txt\n",
      "sign_2.txt\n",
      "hangrail_13.txt\n",
      "road_5.txt\n",
      "cone_5.txt\n",
      "cone_4.txt\n",
      "road_4.txt\n",
      "hangrail_12.txt\n",
      "hangrail_8.txt\n",
      "handrail_1.txt\n",
      "cone_1.txt\n",
      "road_1.txt\n",
      "hangrail_9.txt\n",
      "cone_3.txt\n",
      "road_3.txt\n",
      "hangrail_15.txt\n",
      "hangrail_14.txt\n",
      "road_2.txt\n",
      "cone_2.txt\n",
      "hangrail_7.txt\n",
      "hangrail_6.txt\n",
      "hangrail_4.txt\n",
      "hangrail_5.txt\n",
      "hangrail_2.txt\n",
      "hangrail_3.txt\n",
      "bin_1.txt\n",
      "footway_4.txt\n",
      "footway_5.txt\n",
      "footway_7.txt\n",
      "footway_6.txt\n",
      "footway_13.txt\n",
      "footway_2.txt\n",
      "footway_3.txt\n",
      "footway_12.txt\n",
      "footway_10.txt\n",
      "footway_1.txt\n",
      "footway_11.txt\n"
     ]
    }
   ],
   "source": [
    "path = '/Users/jinxuanchen/Desktop/all/Area1/room_1/Annotations/'\n",
    "files = os.listdir(path)\n",
    "txts = []\n",
    "for file in files:  #遍历⽂件夹\n",
    "    position = path+file  #构造绝对路径，\"\\\\\"，其中⼀个'\\'为转义符\n",
    "    df = pd.read_csv(position,header = None,sep=',',dtype=float)\n",
    "    # df = df.drop(df.columns[[6]],axis=1)\n",
    "    df.to_csv('/Users/jinxuanchen/Desktop/all/Annotations/%s'%file,sep = ' ',header=0,index=0)\n",
    "    print(file)"
   ]
  },
  {
   "cell_type": "code",
   "execution_count": 36,
   "metadata": {},
   "outputs": [
    {
     "data": {
      "text/html": [
       "<div>\n",
       "<style scoped>\n",
       "    .dataframe tbody tr th:only-of-type {\n",
       "        vertical-align: middle;\n",
       "    }\n",
       "\n",
       "    .dataframe tbody tr th {\n",
       "        vertical-align: top;\n",
       "    }\n",
       "\n",
       "    .dataframe thead th {\n",
       "        text-align: right;\n",
       "    }\n",
       "</style>\n",
       "<table border=\"1\" class=\"dataframe\">\n",
       "  <thead>\n",
       "    <tr style=\"text-align: right;\">\n",
       "      <th></th>\n",
       "      <th>0</th>\n",
       "      <th>1</th>\n",
       "      <th>2</th>\n",
       "      <th>3</th>\n",
       "      <th>4</th>\n",
       "      <th>5</th>\n",
       "      <th>6</th>\n",
       "    </tr>\n",
       "  </thead>\n",
       "  <tbody>\n",
       "    <tr>\n",
       "      <th>0</th>\n",
       "      <td>828058.747252</td>\n",
       "      <td>824293.376001</td>\n",
       "      <td>87.544502</td>\n",
       "      <td>48.0</td>\n",
       "      <td>59.0</td>\n",
       "      <td>61.0</td>\n",
       "      <td>16123.0</td>\n",
       "    </tr>\n",
       "    <tr>\n",
       "      <th>1</th>\n",
       "      <td>828058.756250</td>\n",
       "      <td>824293.370005</td>\n",
       "      <td>87.490501</td>\n",
       "      <td>66.0</td>\n",
       "      <td>70.0</td>\n",
       "      <td>71.0</td>\n",
       "      <td>13523.0</td>\n",
       "    </tr>\n",
       "    <tr>\n",
       "      <th>2</th>\n",
       "      <td>828058.746252</td>\n",
       "      <td>824293.376001</td>\n",
       "      <td>87.555501</td>\n",
       "      <td>55.0</td>\n",
       "      <td>66.0</td>\n",
       "      <td>70.0</td>\n",
       "      <td>16123.0</td>\n",
       "    </tr>\n",
       "    <tr>\n",
       "      <th>3</th>\n",
       "      <td>828058.744249</td>\n",
       "      <td>824293.375002</td>\n",
       "      <td>87.567501</td>\n",
       "      <td>59.0</td>\n",
       "      <td>71.0</td>\n",
       "      <td>75.0</td>\n",
       "      <td>14563.0</td>\n",
       "    </tr>\n",
       "    <tr>\n",
       "      <th>4</th>\n",
       "      <td>828058.743250</td>\n",
       "      <td>824293.375002</td>\n",
       "      <td>87.578502</td>\n",
       "      <td>67.0</td>\n",
       "      <td>77.0</td>\n",
       "      <td>84.0</td>\n",
       "      <td>14563.0</td>\n",
       "    </tr>\n",
       "    <tr>\n",
       "      <th>...</th>\n",
       "      <td>...</td>\n",
       "      <td>...</td>\n",
       "      <td>...</td>\n",
       "      <td>...</td>\n",
       "      <td>...</td>\n",
       "      <td>...</td>\n",
       "      <td>...</td>\n",
       "    </tr>\n",
       "    <tr>\n",
       "      <th>41302</th>\n",
       "      <td>828060.173250</td>\n",
       "      <td>824294.628000</td>\n",
       "      <td>87.501501</td>\n",
       "      <td>92.0</td>\n",
       "      <td>87.0</td>\n",
       "      <td>93.0</td>\n",
       "      <td>1040.0</td>\n",
       "    </tr>\n",
       "    <tr>\n",
       "      <th>41303</th>\n",
       "      <td>828060.168249</td>\n",
       "      <td>824294.639002</td>\n",
       "      <td>87.499502</td>\n",
       "      <td>89.0</td>\n",
       "      <td>70.0</td>\n",
       "      <td>63.0</td>\n",
       "      <td>1040.0</td>\n",
       "    </tr>\n",
       "    <tr>\n",
       "      <th>41304</th>\n",
       "      <td>828060.180250</td>\n",
       "      <td>824294.631998</td>\n",
       "      <td>87.494501</td>\n",
       "      <td>56.0</td>\n",
       "      <td>43.0</td>\n",
       "      <td>35.0</td>\n",
       "      <td>1560.0</td>\n",
       "    </tr>\n",
       "    <tr>\n",
       "      <th>41305</th>\n",
       "      <td>828060.162249</td>\n",
       "      <td>824294.647005</td>\n",
       "      <td>87.495502</td>\n",
       "      <td>61.0</td>\n",
       "      <td>42.0</td>\n",
       "      <td>36.0</td>\n",
       "      <td>1040.0</td>\n",
       "    </tr>\n",
       "    <tr>\n",
       "      <th>41306</th>\n",
       "      <td>828060.164251</td>\n",
       "      <td>824294.685999</td>\n",
       "      <td>87.316501</td>\n",
       "      <td>46.0</td>\n",
       "      <td>41.0</td>\n",
       "      <td>37.0</td>\n",
       "      <td>1040.0</td>\n",
       "    </tr>\n",
       "  </tbody>\n",
       "</table>\n",
       "<p>41307 rows × 7 columns</p>\n",
       "</div>"
      ],
      "text/plain": [
       "                   0              1          2     3     4     5        6\n",
       "0      828058.747252  824293.376001  87.544502  48.0  59.0  61.0  16123.0\n",
       "1      828058.756250  824293.370005  87.490501  66.0  70.0  71.0  13523.0\n",
       "2      828058.746252  824293.376001  87.555501  55.0  66.0  70.0  16123.0\n",
       "3      828058.744249  824293.375002  87.567501  59.0  71.0  75.0  14563.0\n",
       "4      828058.743250  824293.375002  87.578502  67.0  77.0  84.0  14563.0\n",
       "...              ...            ...        ...   ...   ...   ...      ...\n",
       "41302  828060.173250  824294.628000  87.501501  92.0  87.0  93.0   1040.0\n",
       "41303  828060.168249  824294.639002  87.499502  89.0  70.0  63.0   1040.0\n",
       "41304  828060.180250  824294.631998  87.494501  56.0  43.0  35.0   1560.0\n",
       "41305  828060.162249  824294.647005  87.495502  61.0  42.0  36.0   1040.0\n",
       "41306  828060.164251  824294.685999  87.316501  46.0  41.0  37.0   1040.0\n",
       "\n",
       "[41307 rows x 7 columns]"
      ]
     },
     "execution_count": 36,
     "metadata": {},
     "output_type": "execute_result"
    }
   ],
   "source": [
    "df = pd.read_csv('/Users/jinxuanchen/Desktop/all/part/bin/bin_1.txt',header = None,sep=',',dtype=float)\n",
    "df"
   ]
  },
  {
   "cell_type": "code",
   "execution_count": 31,
   "metadata": {},
   "outputs": [],
   "source": [
    "df = df.drop(df.columns[[6]],axis=1)\n",
    "df.to_csv('/Users/jinxuanchen/Desktop/room_1.txt',sep = ',',header=0,index=0)"
   ]
  },
  {
   "cell_type": "code",
   "execution_count": 2,
   "metadata": {},
   "outputs": [],
   "source": [
    "import numpy as np"
   ]
  },
  {
   "cell_type": "code",
   "execution_count": 18,
   "metadata": {},
   "outputs": [
    {
     "data": {
      "text/plain": [
       "array([  0.379,   1.637,   3.141, 189.   , 188.   , 193.   ,   0.   ])"
      ]
     },
     "execution_count": 18,
     "metadata": {},
     "output_type": "execute_result"
    }
   ],
   "source": [
    "room_data = np.load('/Users/jinxuanchen/Files_Local/pointnet/test/Pointnet_Pointnet2_pytorch/data/stanford_indoor3d/Area_1_conferenceRoom_1.npy')\n",
    "room_data[500000]"
   ]
  },
  {
   "cell_type": "code",
   "execution_count": 16,
   "metadata": {},
   "outputs": [
    {
     "data": {
      "text/plain": [
       "array([12.327004, 11.365005,  3.443001, 86.      , 73.      , 82.      ,\n",
       "        1.      ])"
      ]
     },
     "execution_count": 16,
     "metadata": {},
     "output_type": "execute_result"
    }
   ],
   "source": [
    "room_data2 = np.load('/Users/jinxuanchen/Files_Local/pointnet/Pointnet_Pointnet2_pytorch/data/s3dis/stanford_indoor3d/Area_1_road_1.npy')\n",
    "room_data2[46171]"
   ]
  }
 ],
 "metadata": {
  "kernelspec": {
   "display_name": "Python 3.9.13 ('pnpp')",
   "language": "python",
   "name": "python3"
  },
  "language_info": {
   "codemirror_mode": {
    "name": "ipython",
    "version": 3
   },
   "file_extension": ".py",
   "mimetype": "text/x-python",
   "name": "python",
   "nbconvert_exporter": "python",
   "pygments_lexer": "ipython3",
   "version": "3.9.13"
  },
  "orig_nbformat": 4,
  "vscode": {
   "interpreter": {
    "hash": "88cc53b3b05ea6e4b8b21401be5decded28d3dd95695c8d66c284a3644155812"
   }
  }
 },
 "nbformat": 4,
 "nbformat_minor": 2
}
