{
 "cells": [
  {
   "cell_type": "code",
   "execution_count": 5,
   "metadata": {},
   "outputs": [],
   "source": [
    "import open3d as o3d\n",
    "import numpy as np\n",
    "import pandas as pd\n",
    "import os"
   ]
  },
  {
   "cell_type": "code",
   "execution_count": 6,
   "metadata": {},
   "outputs": [],
   "source": [
    "def downsample(txt_position, downpcd_position, downsize, file):\n",
    "    pcd = o3d.io.read_point_cloud(txt_position, format='xyzrgb')\n",
    "    downpcd = pcd.voxel_down_sample(voxel_size=downsize)\n",
    "\n",
    "    df_points = pd.DataFrame(np.asarray(downpcd.points))\n",
    "    df_colors = pd.DataFrame(np.asarray(downpcd.colors))\n",
    "\n",
    "    df = pd.concat([df_points, df_colors], axis=1)\n",
    "    df.to_csv(downpcd_position, header=0, index=0, sep=' ')\n",
    "\n",
    "    print('%s downsample completed' % file)\n"
   ]
  },
  {
   "cell_type": "code",
   "execution_count": 7,
   "metadata": {},
   "outputs": [
    {
     "name": "stdout",
     "output_type": "stream",
     "text": [
      "sign_1.txt downsample completed\n",
      "sign_2.txt downsample completed\n",
      "sign_3.txt downsample completed\n",
      "sign_7.txt downsample completed\n",
      "sign_10.txt downsample completed\n",
      "sign_6.txt downsample completed\n",
      "sign_4.txt downsample completed\n",
      "sign_5.txt downsample completed\n",
      "sign_8.txt downsample completed\n",
      "sign_9.txt downsample completed\n"
     ]
    }
   ],
   "source": [
    "# input_path = r'D:\\pointnet\\data\\downsample\\txt/'\n",
    "# downpcd_path = r'D:\\pointnet\\data\\downsample\\final/'\n",
    "\n",
    "input_path = '/Users/jinxuanchen/Desktop/test/txt/'\n",
    "downpcd_path = '/Users/jinxuanchen/Desktop/test/downsample/'\n",
    "\n",
    "files = os.listdir(input_path)\n",
    "txts = []\n",
    "for file in files:  #遍历⽂件夹\n",
    "    elements = file.split('.')\n",
    "    filename = elements[0]\n",
    "\n",
    "    txt_position = input_path + filename + '.txt'\n",
    "    downpcd_position = downpcd_path + filename + '.txt'\n",
    "\n",
    "    downsample(txt_position, downpcd_position, 0.03, file)\n"
   ]
  }
 ],
 "metadata": {
  "kernelspec": {
   "display_name": "Python 3.9.13 ('pnpp')",
   "language": "python",
   "name": "python3"
  },
  "language_info": {
   "codemirror_mode": {
    "name": "ipython",
    "version": 3
   },
   "file_extension": ".py",
   "mimetype": "text/x-python",
   "name": "python",
   "nbconvert_exporter": "python",
   "pygments_lexer": "ipython3",
   "version": "3.9.13"
  },
  "orig_nbformat": 4,
  "vscode": {
   "interpreter": {
    "hash": "88cc53b3b05ea6e4b8b21401be5decded28d3dd95695c8d66c284a3644155812"
   }
  }
 },
 "nbformat": 4,
 "nbformat_minor": 2
}
