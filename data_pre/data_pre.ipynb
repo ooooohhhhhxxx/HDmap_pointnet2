{
 "cells": [
  {
   "cell_type": "code",
   "execution_count": 2,
   "metadata": {},
   "outputs": [],
   "source": [
    "import os\n",
    "import pandas as pd"
   ]
  },
  {
   "cell_type": "code",
   "execution_count": 4,
   "metadata": {},
   "outputs": [
    {
     "name": "stdout",
     "output_type": "stream",
     "text": [
      "barrier_1.txt have 6\n",
      "barrier_2.txt have 6\n",
      "barrier_3.txt have 6\n",
      "car_1.txt have 6\n",
      "ridge_1.txt have 6\n",
      "roadedge_1.txt have 6\n"
     ]
    }
   ],
   "source": [
    "path = 'D:/pointnet/data/s3dis/Stanford3dDataset_v1.2_Aligned_Version/Area_2/part_1/Annotations/'\n",
    "files = os.listdir(path)\n",
    "txts = []\n",
    "for file in files:  #遍历⽂件夹\n",
    "    position = path+file  #构造绝对路径，\"\\\\\"，其中⼀个'\\'为转义符\n",
    "    txts.append(position)\n",
    "    df = pd.read_csv(position,header= None, sep= ' ',dtype=float)\n",
    "    try:\n",
    "        a = df[6]\n",
    "        df = df.drop(df.columns[6],axis=1)\n",
    "        print(file,'have 6')\n",
    "    except:\n",
    "        pass\n",
    "        # df = df.drop(df.columns[6],axis=1)\n",
    "    # df = df.drop(df.columns[])\n",
    "    df.to_csv('D:/pointnet/data/s3dis/Stanford3dDataset_v1.2_Aligned_Version/Area_2/part_1/Annotations/%s'%file,sep = ' ',header=0,index=0)"
   ]
  }
 ],
 "metadata": {
  "kernelspec": {
   "display_name": "Python 3.9.13 ('pnpp')",
   "language": "python",
   "name": "python3"
  },
  "language_info": {
   "codemirror_mode": {
    "name": "ipython",
    "version": 3
   },
   "file_extension": ".py",
   "mimetype": "text/x-python",
   "name": "python",
   "nbconvert_exporter": "python",
   "pygments_lexer": "ipython3",
   "version": "3.9.13"
  },
  "orig_nbformat": 4,
  "vscode": {
   "interpreter": {
    "hash": "88cc53b3b05ea6e4b8b21401be5decded28d3dd95695c8d66c284a3644155812"
   }
  }
 },
 "nbformat": 4,
 "nbformat_minor": 2
}
